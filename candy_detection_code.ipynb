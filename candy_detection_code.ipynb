{
 "cells": [
  {
   "cell_type": "code",
   "execution_count": null,
   "id": "f4483e04-8bfa-431f-9bdb-d49f7b5fec27",
   "metadata": {},
   "outputs": [],
   "source": [
    "!pip install deep_sort_realtime\n",
    "!pip install ultralytics\n",
    "!pip install opencv-python\n"
   ]
  },
  {
   "cell_type": "code",
   "execution_count": null,
   "id": "13cbcf8d-8f66-4a59-b9ee-b1d7bb678071",
   "metadata": {},
   "outputs": [],
   "source": [
    "from ultralytics import YOLO\n",
    "import cv2\n",
    "\n",
    "# تحميل النموذج المدرب باستخدام YOLO\n",
    "model = YOLO('best2.pt')  # تأكد من تعديل المسار إلى المسار الصحيح للنموذج\n",
    "\n",
    "# فتح الكاميرا\n",
    "cap = cv2.VideoCapture(0)  # استخدام الكاميرا الافتراضية (0)\n",
    "\n",
    "while True:\n",
    "    # قراءة الصورة من الكاميرا\n",
    "    ret, frame = cap.read()\n",
    "\n",
    "    if not ret:\n",
    "        print(\"فشل في قراءة الإطار من الكاميرا.\")\n",
    "        break\n",
    "    \n",
    "    # إجراء الكشف باستخدام النموذج المدرب\n",
    "    results = model(frame)\n",
    "\n",
    "    # استخراج النتائج من النموذج\n",
    "    # عادة النتائج تحتوي على بعض الخصائص مثل boxes, labels, and confidences\n",
    "    boxes = results[0].boxes.xywh.cpu().numpy()  # إحداثيات الإطارات (boxes)\n",
    "    confidences = results[0].boxes.conf.cpu().numpy()  # الثقة\n",
    "    labels = results[0].boxes.cls.cpu().numpy()  # الفئات (التسميات)\n",
    "\n",
    "    # أسماء الفئات (يجب التأكد من أنها تتطابق مع أسماء الحلوى التي دربها النموذج)\n",
    "    class_names = results[0].names  # أسماء الفئات التي تم التدريب عليها\n",
    "\n",
    "    for i in range(len(boxes)):\n",
    "        # إذا كانت الثقة أكبر من 50%\n",
    "        if confidences[i] > 0.5:\n",
    "            x1, y1, w, h = boxes[i]\n",
    "            x1, y1, x2, y2 = int(x1 - w / 2), int(y1 - h / 2), int(x1 + w / 2), int(y1 + h / 2)\n",
    "            \n",
    "            # استخراج التسمية (الفئة)\n",
    "            label = class_names[int(labels[i])]  # استرجاع الاسم الصحيح للفئة\n",
    "            confidence = confidences[i]\n",
    "            \n",
    "            # رسم المستطيل حول الكائن المكتشف\n",
    "            cv2.rectangle(frame, (x1, y1), (x2, y2), (0, 255, 0), 2)\n",
    "            cv2.putText(frame, f'{label} {confidence:.2f}', (x1, y1 - 10), cv2.FONT_HERSHEY_SIMPLEX, 0.5, (0, 255, 0), 2)\n",
    "    \n",
    "    # عرض النتيجة\n",
    "    cv2.imshow('Candy Detection', frame)\n",
    "    \n",
    "    # الخروج من الحلقة عند الضغط على مفتاح 'q'\n",
    "    if cv2.waitKey(1) & 0xFF == ord('q'):\n",
    "        break\n",
    "\n",
    "# إغلاق الكاميرا\n",
    "cap.release()\n",
    "cv2.destroyAllWindows()\n"
   ]
  }
 ],
 "metadata": {
  "kernelspec": {
   "display_name": "Python 3 (ipykernel)",
   "language": "python",
   "name": "python3"
  },
  "language_info": {
   "codemirror_mode": {
    "name": "ipython",
    "version": 3
   },
   "file_extension": ".py",
   "mimetype": "text/x-python",
   "name": "python",
   "nbconvert_exporter": "python",
   "pygments_lexer": "ipython3",
   "version": "3.12.7"
  }
 },
 "nbformat": 4,
 "nbformat_minor": 5
}
