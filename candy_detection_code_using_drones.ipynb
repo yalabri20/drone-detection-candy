{
 "cells": [
  {
   "cell_type": "code",
   "execution_count": null,
   "id": "53d44c27-56e3-4402-90f7-e6b01c2aa39b",
   "metadata": {},
   "outputs": [],
   "source": [
    "!pip install deep_sort_realtime\n",
    "!pip install ultralytics\n",
    "!pip install opencv-python\n",
    "\n",
    "pip install djitellopy\n"
   ]
  },
  {
   "cell_type": "code",
   "execution_count": null,
   "id": "193a2693-ef58-41d7-a4b4-ff74bb19d1ae",
   "metadata": {},
   "outputs": [],
   "source": [
    "from ultralytics import YOLO\n",
    "import cv2\n",
    "from djitellopy import Tello\n",
    "\n",
    "# تحميل النموذج المدرب باستخدام YOLO\n",
    "model = YOLO('best2.pt')  # تأكد من تعديل المسار إلى المسار الصحيح للنموذج\n",
    "\n",
    "# الاتصال بالدرون\n",
    "tello = Tello()\n",
    "\n",
    "# بدء الاتصال بالدرون\n",
    "tello.connect()\n",
    "\n",
    "# تأكد من اتصال الدرون\n",
    "print(f\"Battery level: {tello.get_battery()}%\")\n",
    "\n",
    "# بدء تدفق الفيديو\n",
    "tello.streamon()\n",
    "\n",
    "while True:\n",
    "    # التقاط صورة من كاميرا الدرون\n",
    "    frame = tello.get_frame_read().frame\n",
    "\n",
    "    # إجراء الكشف باستخدام النموذج المدرب\n",
    "    results = model(frame)\n",
    "\n",
    "    # استخراج النتائج من النموذج\n",
    "    boxes = results[0].boxes.xywh.cpu().numpy()  # إحداثيات الإطارات (boxes)\n",
    "    confidences = results[0].boxes.conf.cpu().numpy()  # الثقة\n",
    "    labels = results[0].boxes.cls.cpu().numpy()  # الفئات (التسميات)\n",
    "\n",
    "    # أسماء الفئات (يجب التأكد من أنها تتطابق مع أسماء الحلوى التي دربها النموذج)\n",
    "    class_names = results[0].names  # أسماء الفئات التي تم التدريب عليها\n",
    "\n",
    "    for i in range(len(boxes)):\n",
    "        # إذا كانت الثقة أكبر من 50%\n",
    "        if confidences[i] > 0.5:\n",
    "            x1, y1, w, h = boxes[i]\n",
    "            x1, y1, x2, y2 = int(x1 - w / 2), int(y1 - h / 2), int(x1 + w / 2), int(y1 + h / 2)\n",
    "            \n",
    "            # استخراج التسمية (الفئة)\n",
    "            label = class_names[int(labels[i])]  # استرجاع الاسم الصحيح للفئة\n",
    "            confidence = confidences[i]\n",
    "            \n",
    "            # رسم المستطيل حول الكائن المكتشف\n",
    "            cv2.rectangle(frame, (x1, y1), (x2, y2), (0, 255, 0), 2)\n",
    "            cv2.putText(frame, f'{label} {confidence:.2f}', (x1, y1 - 10), cv2.FONT_HERSHEY_SIMPLEX, 0.5, (0, 255, 0), 2)\n",
    "    \n",
    "    # عرض النتيجة\n",
    "    cv2.imshow('Candy Detection', frame)\n",
    "    \n",
    "    # الخروج من الحلقة عند الضغط على مفتاح 'q'\n",
    "    if cv2.waitKey(1) & 0xFF == ord('q'):\n",
    "        break\n",
    "\n",
    "# إغلاق الاتصال بالدرون والكاميرا\n",
    "tello.streamoff()\n",
    "tello.end()\n",
    "cv2.destroyAllWindows()\n"
   ]
  }
 ],
 "metadata": {
  "kernelspec": {
   "display_name": "Python 3 (ipykernel)",
   "language": "python",
   "name": "python3"
  },
  "language_info": {
   "codemirror_mode": {
    "name": "ipython",
    "version": 3
   },
   "file_extension": ".py",
   "mimetype": "text/x-python",
   "name": "python",
   "nbconvert_exporter": "python",
   "pygments_lexer": "ipython3",
   "version": "3.12.7"
  }
 },
 "nbformat": 4,
 "nbformat_minor": 5
}
